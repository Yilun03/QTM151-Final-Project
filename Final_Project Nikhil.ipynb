{
 "cells": [
  {
   "cell_type": "code",
   "execution_count": 38,
   "metadata": {},
   "outputs": [
    {
     "name": "stdout",
     "output_type": "stream",
     "text": [
      "Hamilton's win rate from pole: 59.22%\n",
      "Hamilton's performance starting outside the top 3:\n",
      "  - Total starts: 103\n",
      "  - Wins: 8\n",
      "  - Podium finishes: 33\n",
      "  - Average finish: 6.75\n"
     ]
    }
   ],
   "source": [
    "import pandas as pd\n",
    "import numpy as np\n",
    "\n",
    "results = pd.read_csv(\"/Users/nikhil/Desktop/QTM151/qtm151/lectures/lecture-13/data_raw/results.csv\")\n",
    "qualifying = pd.read_csv(\"/Users/nikhil/Desktop/QTM151/qtm151/lectures/lecture-13/data_raw/qualifying.csv\")\n",
    "races = pd.read_csv(\"/Users/nikhil/Desktop/QTM151/qtm151/lectures/lecture-13/data_raw/races.csv\")\n",
    "drivers = pd.read_csv(\"/Users/nikhil/Desktop/QTM151/qtm151/lectures/lecture-13/data_raw/drivers.csv\")\n",
    "circuits = pd.read_csv(\"/Users/nikhil/Desktop/QTM151/qtm151/lectures/lecture-13/data_raw/circuits.csv\")\n",
    "constructor_standings = pd.read_csv(\"/Users/nikhil/Desktop/QTM151/qtm151/lectures/lecture-13/data_raw/constructor_standings.csv\")\n",
    "constructors = pd.read_csv(\"/Users/nikhil/Desktop/QTM151/qtm151/lectures/lecture-13/data_raw/constructors.csv\")\n",
    "driver_standings = pd.read_csv(\"/Users/nikhil/Desktop/QTM151/qtm151/lectures/lecture-13/data_raw/driver_standings.csv\")\n",
    "lap_times = pd.read_csv(\"/Users/nikhil/Desktop/QTM151/qtm151/lectures/lecture-13/data_raw/lap_times.csv\")\n",
    "pit_stops = pd.read_csv(\"/Users/nikhil/Desktop/QTM151/qtm151/lectures/lecture-13/data_raw/pit_stops.csv\")\n",
    "seasons = pd.read_csv(\"/Users/nikhil/Desktop/QTM151/qtm151/lectures/lecture-13/data_raw/seasons.csv\")\n",
    "sprint_results = pd.read_csv(\"/Users/nikhil/Desktop/QTM151/qtm151/lectures/lecture-13/data_raw/sprint_results.csv\")\n",
    "status = pd.read_csv(\"/Users/nikhil/Desktop/QTM151/qtm151/lectures/lecture-13/data_raw/status.csv\")\n",
    "\n",
    "hamilton_id = drivers.loc[drivers['surname'] == 'Hamilton', 'driverId'].iloc[0]\n",
    "\n",
    "hamilton_pole_starts = results[(results['driverId'] == hamilton_id) & (results['grid'] == 1)]\n",
    "hamilton_pole_wins = hamilton_pole_starts[hamilton_pole_starts['positionOrder'] == 1]\n",
    "\n",
    "#Win rate\n",
    "total_pole_starts = len(hamilton_pole_starts)\n",
    "wins_from_pole = len(hamilton_pole_wins)\n",
    "win_rate_from_pole = wins_from_pole / total_pole_starts \n",
    "\n",
    "hamilton_outside_top3 = results[(results['driverId'] == hamilton_id) & (results['grid'] > 3)]\n",
    "\n",
    "#Performance\n",
    "total_outside_top3 = len(hamilton_outside_top3)\n",
    "wins_outside_top3 = len(hamilton_outside_top3[hamilton_outside_top3['positionOrder'] == 1])\n",
    "podiums_outside_top3 = len(hamilton_outside_top3[hamilton_outside_top3['positionOrder'].isin([1, 2, 3])])\n",
    "average_finish_outside_top3 = hamilton_outside_top3['positionOrder'].mean()\n",
    "\n",
    "#results\n",
    "print(f\"Hamilton's win rate from pole: {win_rate_from_pole:.2%}\")\n",
    "print(\"Hamilton's performance starting outside the top 3:\")\n",
    "print(f\"  - Total starts: {total_outside_top3}\")\n",
    "print(f\"  - Wins: {wins_outside_top3}\")\n",
    "print(f\"  - Podium finishes: {podiums_outside_top3}\")\n",
    "print(f\"  - Average finish: {average_finish_outside_top3:.2f}\")"
   ]
  }
 ],
 "metadata": {
  "kernelspec": {
   "display_name": "base",
   "language": "python",
   "name": "python3"
  },
  "language_info": {
   "codemirror_mode": {
    "name": "ipython",
    "version": 3
   },
   "file_extension": ".py",
   "mimetype": "text/x-python",
   "name": "python",
   "nbconvert_exporter": "python",
   "pygments_lexer": "ipython3",
   "version": "3.10.9"
  }
 },
 "nbformat": 4,
 "nbformat_minor": 2
}
