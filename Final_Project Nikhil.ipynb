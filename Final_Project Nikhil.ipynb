{
 "cells": [
  {
   "cell_type": "code",
   "execution_count": 5,
   "metadata": {},
   "outputs": [
    {
     "name": "stdout",
     "output_type": "stream",
     "text": [
      "Hamilton's win rate from pole: 59.22%\n",
      "Hamilton's performance starting outside the top 3:\n",
      "  - Total starts: 103\n",
      "  - Wins: 8\n",
      "  - Podium finishes: 33\n",
      "  - Average finish: 6.75\n"
     ]
    }
   ],
   "source": [
    "# 1. How often does Hamilton win races when starting from pole?\n",
    "# 2. How does Hamilton perform when starting outside the top 3 on the grid?\n",
    "\n",
    "import pandas as pd\n",
    "\n",
    "results = pd.read_csv(\"/Users/nikhil/Desktop/QTM151/qtm151/lectures/lecture-13/data_raw/results.csv\")\n",
    "drivers = pd.read_csv(\"/Users/nikhil/Desktop/QTM151/qtm151/lectures/lecture-13/data_raw/drivers.csv\")\n",
    "\n",
    "hamilton_id = drivers.loc[drivers['surname'] == 'Hamilton', 'driverId'].iloc[0]\n",
    "\n",
    "hamilton_pole_starts = results[(results['driverId'] == hamilton_id) & (results['grid'] == 1)]\n",
    "hamilton_pole_wins = hamilton_pole_starts[hamilton_pole_starts['positionOrder'] == 1]\n",
    "\n",
    "# Win rate\n",
    "total_pole_starts = len(hamilton_pole_starts)\n",
    "wins_from_pole = len(hamilton_pole_wins)\n",
    "win_rate_from_pole = wins_from_pole / total_pole_starts \n",
    "\n",
    "hamilton_outside_top3 = results[(results['driverId'] == hamilton_id) & (results['grid'] > 3)]\n",
    "\n",
    "# Performance\n",
    "total_outside_top3 = len(hamilton_outside_top3)\n",
    "wins_outside_top3 = len(hamilton_outside_top3[hamilton_outside_top3['positionOrder'] == 1])\n",
    "podiums_outside_top3 = len(hamilton_outside_top3[hamilton_outside_top3['positionOrder'].isin([1, 2, 3])])\n",
    "average_finish_outside_top3 = hamilton_outside_top3['positionOrder'].mean()\n",
    "\n",
    "# Results\n",
    "print(f\"Hamilton's win rate from pole: {win_rate_from_pole:.2%}\")\n",
    "print(\"Hamilton's performance starting outside the top 3:\")\n",
    "print(f\"  - Total starts: {total_outside_top3}\")\n",
    "print(f\"  - Wins: {wins_outside_top3}\")\n",
    "print(f\"  - Podium finishes: {podiums_outside_top3}\")\n",
    "print(f\"  - Average finish: {average_finish_outside_top3:.2f}\")"
   ]
  }
 ],
 "metadata": {
  "kernelspec": {
   "display_name": "base",
   "language": "python",
   "name": "python3"
  },
  "language_info": {
   "codemirror_mode": {
    "name": "ipython",
    "version": 3
   },
   "file_extension": ".py",
   "mimetype": "text/x-python",
   "name": "python",
   "nbconvert_exporter": "python",
   "pygments_lexer": "ipython3",
   "version": "3.10.9"
  }
 },
 "nbformat": 4,
 "nbformat_minor": 2
}
